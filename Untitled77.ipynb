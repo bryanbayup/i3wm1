{
  "nbformat": 4,
  "nbformat_minor": 0,
  "metadata": {
    "colab": {
      "provenance": [],
      "authorship_tag": "ABX9TyO5OdTRzrGaXksYJzoCd8Yg",
      "include_colab_link": true
    },
    "kernelspec": {
      "name": "python3",
      "display_name": "Python 3"
    },
    "language_info": {
      "name": "python"
    },
    "widgets": {
      "application/vnd.jupyter.widget-state+json": {
        "6fc7b27eef864546bf031362eb71b380": {
          "model_module": "@jupyter-widgets/controls",
          "model_name": "TextModel",
          "model_module_version": "1.5.0",
          "state": {
            "_dom_classes": [],
            "_model_module": "@jupyter-widgets/controls",
            "_model_module_version": "1.5.0",
            "_model_name": "TextModel",
            "_view_count": null,
            "_view_module": "@jupyter-widgets/controls",
            "_view_module_version": "1.5.0",
            "_view_name": "TextView",
            "continuous_update": true,
            "description": "User Input:",
            "description_tooltip": null,
            "disabled": false,
            "layout": "IPY_MODEL_d53b8dc4c96247f794439c04d8ba4f25",
            "placeholder": "Ketik pertanyaan Anda...",
            "style": "IPY_MODEL_e0afcd4ee9d0472596d15ee88f16138e",
            "value": "Saya melihat seekor kucing sakit di depan toko."
          }
        },
        "d53b8dc4c96247f794439c04d8ba4f25": {
          "model_module": "@jupyter-widgets/base",
          "model_name": "LayoutModel",
          "model_module_version": "1.2.0",
          "state": {
            "_model_module": "@jupyter-widgets/base",
            "_model_module_version": "1.2.0",
            "_model_name": "LayoutModel",
            "_view_count": null,
            "_view_module": "@jupyter-widgets/base",
            "_view_module_version": "1.2.0",
            "_view_name": "LayoutView",
            "align_content": null,
            "align_items": null,
            "align_self": null,
            "border": null,
            "bottom": null,
            "display": null,
            "flex": null,
            "flex_flow": null,
            "grid_area": null,
            "grid_auto_columns": null,
            "grid_auto_flow": null,
            "grid_auto_rows": null,
            "grid_column": null,
            "grid_gap": null,
            "grid_row": null,
            "grid_template_areas": null,
            "grid_template_columns": null,
            "grid_template_rows": null,
            "height": null,
            "justify_content": null,
            "justify_items": null,
            "left": null,
            "margin": null,
            "max_height": null,
            "max_width": null,
            "min_height": null,
            "min_width": null,
            "object_fit": null,
            "object_position": null,
            "order": null,
            "overflow": null,
            "overflow_x": null,
            "overflow_y": null,
            "padding": null,
            "right": null,
            "top": null,
            "visibility": null,
            "width": null
          }
        },
        "e0afcd4ee9d0472596d15ee88f16138e": {
          "model_module": "@jupyter-widgets/controls",
          "model_name": "DescriptionStyleModel",
          "model_module_version": "1.5.0",
          "state": {
            "_model_module": "@jupyter-widgets/controls",
            "_model_module_version": "1.5.0",
            "_model_name": "DescriptionStyleModel",
            "_view_count": null,
            "_view_module": "@jupyter-widgets/base",
            "_view_module_version": "1.2.0",
            "_view_name": "StyleView",
            "description_width": ""
          }
        },
        "37a0d3daa5b94e1ca5ee954b6d3c1892": {
          "model_module": "@jupyter-widgets/controls",
          "model_name": "ButtonModel",
          "model_module_version": "1.5.0",
          "state": {
            "_dom_classes": [],
            "_model_module": "@jupyter-widgets/controls",
            "_model_module_version": "1.5.0",
            "_model_name": "ButtonModel",
            "_view_count": null,
            "_view_module": "@jupyter-widgets/controls",
            "_view_module_version": "1.5.0",
            "_view_name": "ButtonView",
            "button_style": "success",
            "description": "Kirim",
            "disabled": false,
            "icon": "",
            "layout": "IPY_MODEL_d58cf12ffa09419da974e47b767dcce8",
            "style": "IPY_MODEL_caa75cbb3b7e4948a2116e1f818693e6",
            "tooltip": ""
          }
        },
        "d58cf12ffa09419da974e47b767dcce8": {
          "model_module": "@jupyter-widgets/base",
          "model_name": "LayoutModel",
          "model_module_version": "1.2.0",
          "state": {
            "_model_module": "@jupyter-widgets/base",
            "_model_module_version": "1.2.0",
            "_model_name": "LayoutModel",
            "_view_count": null,
            "_view_module": "@jupyter-widgets/base",
            "_view_module_version": "1.2.0",
            "_view_name": "LayoutView",
            "align_content": null,
            "align_items": null,
            "align_self": null,
            "border": null,
            "bottom": null,
            "display": null,
            "flex": null,
            "flex_flow": null,
            "grid_area": null,
            "grid_auto_columns": null,
            "grid_auto_flow": null,
            "grid_auto_rows": null,
            "grid_column": null,
            "grid_gap": null,
            "grid_row": null,
            "grid_template_areas": null,
            "grid_template_columns": null,
            "grid_template_rows": null,
            "height": null,
            "justify_content": null,
            "justify_items": null,
            "left": null,
            "margin": null,
            "max_height": null,
            "max_width": null,
            "min_height": null,
            "min_width": null,
            "object_fit": null,
            "object_position": null,
            "order": null,
            "overflow": null,
            "overflow_x": null,
            "overflow_y": null,
            "padding": null,
            "right": null,
            "top": null,
            "visibility": null,
            "width": null
          }
        },
        "caa75cbb3b7e4948a2116e1f818693e6": {
          "model_module": "@jupyter-widgets/controls",
          "model_name": "ButtonStyleModel",
          "model_module_version": "1.5.0",
          "state": {
            "_model_module": "@jupyter-widgets/controls",
            "_model_module_version": "1.5.0",
            "_model_name": "ButtonStyleModel",
            "_view_count": null,
            "_view_module": "@jupyter-widgets/base",
            "_view_module_version": "1.2.0",
            "_view_name": "StyleView",
            "button_color": null,
            "font_weight": ""
          }
        },
        "48ba7a8153764959afb26d0d7811540d": {
          "model_module": "@jupyter-widgets/output",
          "model_name": "OutputModel",
          "model_module_version": "1.0.0",
          "state": {
            "_dom_classes": [],
            "_model_module": "@jupyter-widgets/output",
            "_model_module_version": "1.0.0",
            "_model_name": "OutputModel",
            "_view_count": null,
            "_view_module": "@jupyter-widgets/output",
            "_view_module_version": "1.0.0",
            "_view_name": "OutputView",
            "layout": "IPY_MODEL_9323fbbe9baa481491cbec3051d1fa8f",
            "msg_id": "",
            "outputs": []
          }
        },
        "9323fbbe9baa481491cbec3051d1fa8f": {
          "model_module": "@jupyter-widgets/base",
          "model_name": "LayoutModel",
          "model_module_version": "1.2.0",
          "state": {
            "_model_module": "@jupyter-widgets/base",
            "_model_module_version": "1.2.0",
            "_model_name": "LayoutModel",
            "_view_count": null,
            "_view_module": "@jupyter-widgets/base",
            "_view_module_version": "1.2.0",
            "_view_name": "LayoutView",
            "align_content": null,
            "align_items": null,
            "align_self": null,
            "border": null,
            "bottom": null,
            "display": null,
            "flex": null,
            "flex_flow": null,
            "grid_area": null,
            "grid_auto_columns": null,
            "grid_auto_flow": null,
            "grid_auto_rows": null,
            "grid_column": null,
            "grid_gap": null,
            "grid_row": null,
            "grid_template_areas": null,
            "grid_template_columns": null,
            "grid_template_rows": null,
            "height": null,
            "justify_content": null,
            "justify_items": null,
            "left": null,
            "margin": null,
            "max_height": null,
            "max_width": null,
            "min_height": null,
            "min_width": null,
            "object_fit": null,
            "object_position": null,
            "order": null,
            "overflow": null,
            "overflow_x": null,
            "overflow_y": null,
            "padding": null,
            "right": null,
            "top": null,
            "visibility": null,
            "width": null
          }
        }
      }
    }
  },
  "cells": [
    {
      "cell_type": "markdown",
      "metadata": {
        "id": "view-in-github",
        "colab_type": "text"
      },
      "source": [
        "<a href=\"https://colab.research.google.com/github/bryanbayup/i3wm1/blob/main/Untitled77.ipynb\" target=\"_parent\"><img src=\"https://colab.research.google.com/assets/colab-badge.svg\" alt=\"Open In Colab\"/></a>"
      ]
    },
    {
      "cell_type": "code",
      "source": [
        "# -------------------------------------------\n",
        "# Section 1: Instalasi dan Persiapan Lingkungan\n",
        "# -------------------------------------------\n",
        "!pip install gensim keras-tuner imbalanced-learn Sastrawi sentencepiece seqeval ipywidgets tensorflow==2.15.0 tensorflow-addons\n",
        "# # Download FastText\n",
        "# !wget -O id.tar.gz \"https://www.dropbox.com/scl/fi/sju4o3keikox69euw51vy/id.tar.gz?rlkey=5jr3ijtbdwfahq7xcgig28qvy&e=1&st=gntzkzeo&dl=1\"\n",
        "# !tar -xzf id.tar.gz\n",
        "\n",
        "import json\n",
        "import os\n",
        "import re\n",
        "import pickle\n",
        "import random\n",
        "import numpy as np\n",
        "import pandas as pd\n",
        "import matplotlib.pyplot as plt\n",
        "import tensorflow as tf\n",
        "import tensorflow_addons as tfa\n",
        "from seqeval.metrics import classification_report as seq_classification_report\n",
        "from sklearn.model_selection import train_test_split\n",
        "from sklearn.preprocessing import LabelEncoder\n",
        "from sklearn.metrics.pairwise import cosine_similarity\n",
        "from sklearn.feature_extraction.text import TfidfVectorizer\n",
        "from imblearn.over_sampling import RandomOverSampler\n",
        "import nltk\n",
        "from nltk.corpus import stopwords\n",
        "from gensim.models import KeyedVectors\n",
        "from Sastrawi.Stemmer.StemmerFactory import StemmerFactory\n",
        "from keras_tuner import HyperModel, RandomSearch\n",
        "import ipywidgets as widgets\n",
        "from IPython.display import display\n",
        "\n",
        "# Supress TensorFlow warnings\n",
        "import logging\n",
        "logging.getLogger('tensorflow').setLevel(logging.ERROR)\n",
        "\n",
        "nltk.download('stopwords')"
      ],
      "metadata": {
        "colab": {
          "base_uri": "https://localhost:8080/"
        },
        "id": "V5gtkjS6GAFX",
        "outputId": "954a8736-c700-4376-ac84-953fd6bd5ec8"
      },
      "execution_count": 27,
      "outputs": [
        {
          "output_type": "stream",
          "name": "stdout",
          "text": [
            "Requirement already satisfied: gensim in /usr/local/lib/python3.10/dist-packages (4.3.3)\n",
            "Requirement already satisfied: keras-tuner in /usr/local/lib/python3.10/dist-packages (1.4.7)\n",
            "Requirement already satisfied: imbalanced-learn in /usr/local/lib/python3.10/dist-packages (0.12.4)\n",
            "Requirement already satisfied: Sastrawi in /usr/local/lib/python3.10/dist-packages (1.0.1)\n",
            "Requirement already satisfied: sentencepiece in /usr/local/lib/python3.10/dist-packages (0.2.0)\n",
            "Requirement already satisfied: seqeval in /usr/local/lib/python3.10/dist-packages (1.2.2)\n",
            "Requirement already satisfied: ipywidgets in /usr/local/lib/python3.10/dist-packages (7.7.1)\n",
            "Requirement already satisfied: tensorflow==2.15.0 in /usr/local/lib/python3.10/dist-packages (2.15.0)\n",
            "Requirement already satisfied: tensorflow-addons in /usr/local/lib/python3.10/dist-packages (0.23.0)\n",
            "Requirement already satisfied: absl-py>=1.0.0 in /usr/local/lib/python3.10/dist-packages (from tensorflow==2.15.0) (1.4.0)\n",
            "Requirement already satisfied: astunparse>=1.6.0 in /usr/local/lib/python3.10/dist-packages (from tensorflow==2.15.0) (1.6.3)\n",
            "Requirement already satisfied: flatbuffers>=23.5.26 in /usr/local/lib/python3.10/dist-packages (from tensorflow==2.15.0) (24.3.25)\n",
            "Requirement already satisfied: gast!=0.5.0,!=0.5.1,!=0.5.2,>=0.2.1 in /usr/local/lib/python3.10/dist-packages (from tensorflow==2.15.0) (0.6.0)\n",
            "Requirement already satisfied: google-pasta>=0.1.1 in /usr/local/lib/python3.10/dist-packages (from tensorflow==2.15.0) (0.2.0)\n",
            "Requirement already satisfied: h5py>=2.9.0 in /usr/local/lib/python3.10/dist-packages (from tensorflow==2.15.0) (3.12.1)\n",
            "Requirement already satisfied: libclang>=13.0.0 in /usr/local/lib/python3.10/dist-packages (from tensorflow==2.15.0) (18.1.1)\n",
            "Requirement already satisfied: ml-dtypes~=0.2.0 in /usr/local/lib/python3.10/dist-packages (from tensorflow==2.15.0) (0.2.0)\n",
            "Requirement already satisfied: numpy<2.0.0,>=1.23.5 in /usr/local/lib/python3.10/dist-packages (from tensorflow==2.15.0) (1.26.4)\n",
            "Requirement already satisfied: opt-einsum>=2.3.2 in /usr/local/lib/python3.10/dist-packages (from tensorflow==2.15.0) (3.4.0)\n",
            "Requirement already satisfied: packaging in /usr/local/lib/python3.10/dist-packages (from tensorflow==2.15.0) (24.2)\n",
            "Requirement already satisfied: protobuf!=4.21.0,!=4.21.1,!=4.21.2,!=4.21.3,!=4.21.4,!=4.21.5,<5.0.0dev,>=3.20.3 in /usr/local/lib/python3.10/dist-packages (from tensorflow==2.15.0) (4.25.5)\n",
            "Requirement already satisfied: setuptools in /usr/local/lib/python3.10/dist-packages (from tensorflow==2.15.0) (75.1.0)\n",
            "Requirement already satisfied: six>=1.12.0 in /usr/local/lib/python3.10/dist-packages (from tensorflow==2.15.0) (1.16.0)\n",
            "Requirement already satisfied: termcolor>=1.1.0 in /usr/local/lib/python3.10/dist-packages (from tensorflow==2.15.0) (2.5.0)\n",
            "Requirement already satisfied: typing-extensions>=3.6.6 in /usr/local/lib/python3.10/dist-packages (from tensorflow==2.15.0) (4.12.2)\n",
            "Requirement already satisfied: wrapt<1.15,>=1.11.0 in /usr/local/lib/python3.10/dist-packages (from tensorflow==2.15.0) (1.14.1)\n",
            "Requirement already satisfied: tensorflow-io-gcs-filesystem>=0.23.1 in /usr/local/lib/python3.10/dist-packages (from tensorflow==2.15.0) (0.37.1)\n",
            "Requirement already satisfied: grpcio<2.0,>=1.24.3 in /usr/local/lib/python3.10/dist-packages (from tensorflow==2.15.0) (1.68.1)\n",
            "Requirement already satisfied: tensorboard<2.16,>=2.15 in /usr/local/lib/python3.10/dist-packages (from tensorflow==2.15.0) (2.15.2)\n",
            "Requirement already satisfied: tensorflow-estimator<2.16,>=2.15.0 in /usr/local/lib/python3.10/dist-packages (from tensorflow==2.15.0) (2.15.0)\n",
            "Requirement already satisfied: keras<2.16,>=2.15.0 in /usr/local/lib/python3.10/dist-packages (from tensorflow==2.15.0) (2.15.0)\n",
            "Requirement already satisfied: scipy<1.14.0,>=1.7.0 in /usr/local/lib/python3.10/dist-packages (from gensim) (1.13.1)\n",
            "Requirement already satisfied: smart-open>=1.8.1 in /usr/local/lib/python3.10/dist-packages (from gensim) (7.0.5)\n",
            "Requirement already satisfied: requests in /usr/local/lib/python3.10/dist-packages (from keras-tuner) (2.32.3)\n",
            "Requirement already satisfied: kt-legacy in /usr/local/lib/python3.10/dist-packages (from keras-tuner) (1.0.5)\n",
            "Requirement already satisfied: scikit-learn>=1.0.2 in /usr/local/lib/python3.10/dist-packages (from imbalanced-learn) (1.5.2)\n",
            "Requirement already satisfied: joblib>=1.1.1 in /usr/local/lib/python3.10/dist-packages (from imbalanced-learn) (1.4.2)\n",
            "Requirement already satisfied: threadpoolctl>=2.0.0 in /usr/local/lib/python3.10/dist-packages (from imbalanced-learn) (3.5.0)\n",
            "Requirement already satisfied: ipykernel>=4.5.1 in /usr/local/lib/python3.10/dist-packages (from ipywidgets) (5.5.6)\n",
            "Requirement already satisfied: ipython-genutils~=0.2.0 in /usr/local/lib/python3.10/dist-packages (from ipywidgets) (0.2.0)\n",
            "Requirement already satisfied: traitlets>=4.3.1 in /usr/local/lib/python3.10/dist-packages (from ipywidgets) (5.7.1)\n",
            "Requirement already satisfied: widgetsnbextension~=3.6.0 in /usr/local/lib/python3.10/dist-packages (from ipywidgets) (3.6.10)\n",
            "Requirement already satisfied: ipython>=4.0.0 in /usr/local/lib/python3.10/dist-packages (from ipywidgets) (7.34.0)\n",
            "Requirement already satisfied: jupyterlab-widgets>=1.0.0 in /usr/local/lib/python3.10/dist-packages (from ipywidgets) (3.0.13)\n",
            "Requirement already satisfied: typeguard<3.0.0,>=2.7 in /usr/local/lib/python3.10/dist-packages (from tensorflow-addons) (2.13.3)\n",
            "Requirement already satisfied: wheel<1.0,>=0.23.0 in /usr/local/lib/python3.10/dist-packages (from astunparse>=1.6.0->tensorflow==2.15.0) (0.45.1)\n",
            "Requirement already satisfied: jupyter-client in /usr/local/lib/python3.10/dist-packages (from ipykernel>=4.5.1->ipywidgets) (6.1.12)\n",
            "Requirement already satisfied: tornado>=4.2 in /usr/local/lib/python3.10/dist-packages (from ipykernel>=4.5.1->ipywidgets) (6.3.3)\n",
            "Requirement already satisfied: jedi>=0.16 in /usr/local/lib/python3.10/dist-packages (from ipython>=4.0.0->ipywidgets) (0.19.2)\n",
            "Requirement already satisfied: decorator in /usr/local/lib/python3.10/dist-packages (from ipython>=4.0.0->ipywidgets) (4.4.2)\n",
            "Requirement already satisfied: pickleshare in /usr/local/lib/python3.10/dist-packages (from ipython>=4.0.0->ipywidgets) (0.7.5)\n",
            "Requirement already satisfied: prompt-toolkit!=3.0.0,!=3.0.1,<3.1.0,>=2.0.0 in /usr/local/lib/python3.10/dist-packages (from ipython>=4.0.0->ipywidgets) (3.0.48)\n",
            "Requirement already satisfied: pygments in /usr/local/lib/python3.10/dist-packages (from ipython>=4.0.0->ipywidgets) (2.18.0)\n",
            "Requirement already satisfied: backcall in /usr/local/lib/python3.10/dist-packages (from ipython>=4.0.0->ipywidgets) (0.2.0)\n",
            "Requirement already satisfied: matplotlib-inline in /usr/local/lib/python3.10/dist-packages (from ipython>=4.0.0->ipywidgets) (0.1.7)\n",
            "Requirement already satisfied: pexpect>4.3 in /usr/local/lib/python3.10/dist-packages (from ipython>=4.0.0->ipywidgets) (4.9.0)\n",
            "Requirement already satisfied: google-auth<3,>=1.6.3 in /usr/local/lib/python3.10/dist-packages (from tensorboard<2.16,>=2.15->tensorflow==2.15.0) (2.27.0)\n",
            "Requirement already satisfied: google-auth-oauthlib<2,>=0.5 in /usr/local/lib/python3.10/dist-packages (from tensorboard<2.16,>=2.15->tensorflow==2.15.0) (1.2.1)\n",
            "Requirement already satisfied: markdown>=2.6.8 in /usr/local/lib/python3.10/dist-packages (from tensorboard<2.16,>=2.15->tensorflow==2.15.0) (3.7)\n",
            "Requirement already satisfied: tensorboard-data-server<0.8.0,>=0.7.0 in /usr/local/lib/python3.10/dist-packages (from tensorboard<2.16,>=2.15->tensorflow==2.15.0) (0.7.2)\n",
            "Requirement already satisfied: werkzeug>=1.0.1 in /usr/local/lib/python3.10/dist-packages (from tensorboard<2.16,>=2.15->tensorflow==2.15.0) (3.1.3)\n",
            "Requirement already satisfied: charset-normalizer<4,>=2 in /usr/local/lib/python3.10/dist-packages (from requests->keras-tuner) (3.4.0)\n",
            "Requirement already satisfied: idna<4,>=2.5 in /usr/local/lib/python3.10/dist-packages (from requests->keras-tuner) (3.10)\n",
            "Requirement already satisfied: urllib3<3,>=1.21.1 in /usr/local/lib/python3.10/dist-packages (from requests->keras-tuner) (2.2.3)\n",
            "Requirement already satisfied: certifi>=2017.4.17 in /usr/local/lib/python3.10/dist-packages (from requests->keras-tuner) (2024.8.30)\n",
            "Requirement already satisfied: notebook>=4.4.1 in /usr/local/lib/python3.10/dist-packages (from widgetsnbextension~=3.6.0->ipywidgets) (6.5.5)\n",
            "Requirement already satisfied: cachetools<6.0,>=2.0.0 in /usr/local/lib/python3.10/dist-packages (from google-auth<3,>=1.6.3->tensorboard<2.16,>=2.15->tensorflow==2.15.0) (5.5.0)\n",
            "Requirement already satisfied: pyasn1-modules>=0.2.1 in /usr/local/lib/python3.10/dist-packages (from google-auth<3,>=1.6.3->tensorboard<2.16,>=2.15->tensorflow==2.15.0) (0.4.1)\n",
            "Requirement already satisfied: rsa<5,>=3.1.4 in /usr/local/lib/python3.10/dist-packages (from google-auth<3,>=1.6.3->tensorboard<2.16,>=2.15->tensorflow==2.15.0) (4.9)\n",
            "Requirement already satisfied: requests-oauthlib>=0.7.0 in /usr/local/lib/python3.10/dist-packages (from google-auth-oauthlib<2,>=0.5->tensorboard<2.16,>=2.15->tensorflow==2.15.0) (1.3.1)\n",
            "Requirement already satisfied: parso<0.9.0,>=0.8.4 in /usr/local/lib/python3.10/dist-packages (from jedi>=0.16->ipython>=4.0.0->ipywidgets) (0.8.4)\n",
            "Requirement already satisfied: jinja2 in /usr/local/lib/python3.10/dist-packages (from notebook>=4.4.1->widgetsnbextension~=3.6.0->ipywidgets) (3.1.4)\n",
            "Requirement already satisfied: pyzmq<25,>=17 in /usr/local/lib/python3.10/dist-packages (from notebook>=4.4.1->widgetsnbextension~=3.6.0->ipywidgets) (24.0.1)\n",
            "Requirement already satisfied: argon2-cffi in /usr/local/lib/python3.10/dist-packages (from notebook>=4.4.1->widgetsnbextension~=3.6.0->ipywidgets) (23.1.0)\n",
            "Requirement already satisfied: jupyter-core>=4.6.1 in /usr/local/lib/python3.10/dist-packages (from notebook>=4.4.1->widgetsnbextension~=3.6.0->ipywidgets) (5.7.2)\n",
            "Requirement already satisfied: nbformat in /usr/local/lib/python3.10/dist-packages (from notebook>=4.4.1->widgetsnbextension~=3.6.0->ipywidgets) (5.10.4)\n",
            "Requirement already satisfied: nbconvert>=5 in /usr/local/lib/python3.10/dist-packages (from notebook>=4.4.1->widgetsnbextension~=3.6.0->ipywidgets) (7.16.4)\n",
            "Requirement already satisfied: nest-asyncio>=1.5 in /usr/local/lib/python3.10/dist-packages (from notebook>=4.4.1->widgetsnbextension~=3.6.0->ipywidgets) (1.6.0)\n",
            "Requirement already satisfied: Send2Trash>=1.8.0 in /usr/local/lib/python3.10/dist-packages (from notebook>=4.4.1->widgetsnbextension~=3.6.0->ipywidgets) (1.8.3)\n",
            "Requirement already satisfied: terminado>=0.8.3 in /usr/local/lib/python3.10/dist-packages (from notebook>=4.4.1->widgetsnbextension~=3.6.0->ipywidgets) (0.18.1)\n",
            "Requirement already satisfied: prometheus-client in /usr/local/lib/python3.10/dist-packages (from notebook>=4.4.1->widgetsnbextension~=3.6.0->ipywidgets) (0.21.1)\n",
            "Requirement already satisfied: nbclassic>=0.4.7 in /usr/local/lib/python3.10/dist-packages (from notebook>=4.4.1->widgetsnbextension~=3.6.0->ipywidgets) (1.1.0)\n",
            "Requirement already satisfied: python-dateutil>=2.1 in /usr/local/lib/python3.10/dist-packages (from jupyter-client->ipykernel>=4.5.1->ipywidgets) (2.8.2)\n",
            "Requirement already satisfied: ptyprocess>=0.5 in /usr/local/lib/python3.10/dist-packages (from pexpect>4.3->ipython>=4.0.0->ipywidgets) (0.7.0)\n",
            "Requirement already satisfied: wcwidth in /usr/local/lib/python3.10/dist-packages (from prompt-toolkit!=3.0.0,!=3.0.1,<3.1.0,>=2.0.0->ipython>=4.0.0->ipywidgets) (0.2.13)\n",
            "Requirement already satisfied: MarkupSafe>=2.1.1 in /usr/local/lib/python3.10/dist-packages (from werkzeug>=1.0.1->tensorboard<2.16,>=2.15->tensorflow==2.15.0) (3.0.2)\n",
            "Requirement already satisfied: platformdirs>=2.5 in /usr/local/lib/python3.10/dist-packages (from jupyter-core>=4.6.1->notebook>=4.4.1->widgetsnbextension~=3.6.0->ipywidgets) (4.3.6)\n",
            "Requirement already satisfied: notebook-shim>=0.2.3 in /usr/local/lib/python3.10/dist-packages (from nbclassic>=0.4.7->notebook>=4.4.1->widgetsnbextension~=3.6.0->ipywidgets) (0.2.4)\n",
            "Requirement already satisfied: beautifulsoup4 in /usr/local/lib/python3.10/dist-packages (from nbconvert>=5->notebook>=4.4.1->widgetsnbextension~=3.6.0->ipywidgets) (4.12.3)\n",
            "Requirement already satisfied: bleach!=5.0.0 in /usr/local/lib/python3.10/dist-packages (from nbconvert>=5->notebook>=4.4.1->widgetsnbextension~=3.6.0->ipywidgets) (6.2.0)\n",
            "Requirement already satisfied: defusedxml in /usr/local/lib/python3.10/dist-packages (from nbconvert>=5->notebook>=4.4.1->widgetsnbextension~=3.6.0->ipywidgets) (0.7.1)\n",
            "Requirement already satisfied: jupyterlab-pygments in /usr/local/lib/python3.10/dist-packages (from nbconvert>=5->notebook>=4.4.1->widgetsnbextension~=3.6.0->ipywidgets) (0.3.0)\n",
            "Requirement already satisfied: mistune<4,>=2.0.3 in /usr/local/lib/python3.10/dist-packages (from nbconvert>=5->notebook>=4.4.1->widgetsnbextension~=3.6.0->ipywidgets) (3.0.2)\n",
            "Requirement already satisfied: nbclient>=0.5.0 in /usr/local/lib/python3.10/dist-packages (from nbconvert>=5->notebook>=4.4.1->widgetsnbextension~=3.6.0->ipywidgets) (0.10.1)\n",
            "Requirement already satisfied: pandocfilters>=1.4.1 in /usr/local/lib/python3.10/dist-packages (from nbconvert>=5->notebook>=4.4.1->widgetsnbextension~=3.6.0->ipywidgets) (1.5.1)\n",
            "Requirement already satisfied: tinycss2 in /usr/local/lib/python3.10/dist-packages (from nbconvert>=5->notebook>=4.4.1->widgetsnbextension~=3.6.0->ipywidgets) (1.4.0)\n",
            "Requirement already satisfied: fastjsonschema>=2.15 in /usr/local/lib/python3.10/dist-packages (from nbformat->notebook>=4.4.1->widgetsnbextension~=3.6.0->ipywidgets) (2.21.1)\n",
            "Requirement already satisfied: jsonschema>=2.6 in /usr/local/lib/python3.10/dist-packages (from nbformat->notebook>=4.4.1->widgetsnbextension~=3.6.0->ipywidgets) (4.23.0)\n",
            "Requirement already satisfied: pyasn1<0.7.0,>=0.4.6 in /usr/local/lib/python3.10/dist-packages (from pyasn1-modules>=0.2.1->google-auth<3,>=1.6.3->tensorboard<2.16,>=2.15->tensorflow==2.15.0) (0.6.1)\n",
            "Requirement already satisfied: oauthlib>=3.0.0 in /usr/local/lib/python3.10/dist-packages (from requests-oauthlib>=0.7.0->google-auth-oauthlib<2,>=0.5->tensorboard<2.16,>=2.15->tensorflow==2.15.0) (3.2.2)\n",
            "Requirement already satisfied: argon2-cffi-bindings in /usr/local/lib/python3.10/dist-packages (from argon2-cffi->notebook>=4.4.1->widgetsnbextension~=3.6.0->ipywidgets) (21.2.0)\n",
            "Requirement already satisfied: webencodings in /usr/local/lib/python3.10/dist-packages (from bleach!=5.0.0->nbconvert>=5->notebook>=4.4.1->widgetsnbextension~=3.6.0->ipywidgets) (0.5.1)\n",
            "Requirement already satisfied: attrs>=22.2.0 in /usr/local/lib/python3.10/dist-packages (from jsonschema>=2.6->nbformat->notebook>=4.4.1->widgetsnbextension~=3.6.0->ipywidgets) (24.2.0)\n",
            "Requirement already satisfied: jsonschema-specifications>=2023.03.6 in /usr/local/lib/python3.10/dist-packages (from jsonschema>=2.6->nbformat->notebook>=4.4.1->widgetsnbextension~=3.6.0->ipywidgets) (2024.10.1)\n",
            "Requirement already satisfied: referencing>=0.28.4 in /usr/local/lib/python3.10/dist-packages (from jsonschema>=2.6->nbformat->notebook>=4.4.1->widgetsnbextension~=3.6.0->ipywidgets) (0.35.1)\n",
            "Requirement already satisfied: rpds-py>=0.7.1 in /usr/local/lib/python3.10/dist-packages (from jsonschema>=2.6->nbformat->notebook>=4.4.1->widgetsnbextension~=3.6.0->ipywidgets) (0.22.3)\n",
            "Requirement already satisfied: jupyter-server<3,>=1.8 in /usr/local/lib/python3.10/dist-packages (from notebook-shim>=0.2.3->nbclassic>=0.4.7->notebook>=4.4.1->widgetsnbextension~=3.6.0->ipywidgets) (1.24.0)\n",
            "Requirement already satisfied: cffi>=1.0.1 in /usr/local/lib/python3.10/dist-packages (from argon2-cffi-bindings->argon2-cffi->notebook>=4.4.1->widgetsnbextension~=3.6.0->ipywidgets) (1.17.1)\n",
            "Requirement already satisfied: soupsieve>1.2 in /usr/local/lib/python3.10/dist-packages (from beautifulsoup4->nbconvert>=5->notebook>=4.4.1->widgetsnbextension~=3.6.0->ipywidgets) (2.6)\n",
            "Requirement already satisfied: pycparser in /usr/local/lib/python3.10/dist-packages (from cffi>=1.0.1->argon2-cffi-bindings->argon2-cffi->notebook>=4.4.1->widgetsnbextension~=3.6.0->ipywidgets) (2.22)\n",
            "Requirement already satisfied: anyio<4,>=3.1.0 in /usr/local/lib/python3.10/dist-packages (from jupyter-server<3,>=1.8->notebook-shim>=0.2.3->nbclassic>=0.4.7->notebook>=4.4.1->widgetsnbextension~=3.6.0->ipywidgets) (3.7.1)\n",
            "Requirement already satisfied: websocket-client in /usr/local/lib/python3.10/dist-packages (from jupyter-server<3,>=1.8->notebook-shim>=0.2.3->nbclassic>=0.4.7->notebook>=4.4.1->widgetsnbextension~=3.6.0->ipywidgets) (1.8.0)\n",
            "Requirement already satisfied: sniffio>=1.1 in /usr/local/lib/python3.10/dist-packages (from anyio<4,>=3.1.0->jupyter-server<3,>=1.8->notebook-shim>=0.2.3->nbclassic>=0.4.7->notebook>=4.4.1->widgetsnbextension~=3.6.0->ipywidgets) (1.3.1)\n",
            "Requirement already satisfied: exceptiongroup in /usr/local/lib/python3.10/dist-packages (from anyio<4,>=3.1.0->jupyter-server<3,>=1.8->notebook-shim>=0.2.3->nbclassic>=0.4.7->notebook>=4.4.1->widgetsnbextension~=3.6.0->ipywidgets) (1.2.2)\n"
          ]
        },
        {
          "output_type": "stream",
          "name": "stderr",
          "text": [
            "[nltk_data] Downloading package stopwords to /root/nltk_data...\n",
            "[nltk_data]   Package stopwords is already up-to-date!\n"
          ]
        },
        {
          "output_type": "execute_result",
          "data": {
            "text/plain": [
              "True"
            ]
          },
          "metadata": {},
          "execution_count": 27
        }
      ]
    },
    {
      "cell_type": "code",
      "source": [
        "# -------------------------------------------\n",
        "# Section 2: Memuat Model FastText\n",
        "# -------------------------------------------\n",
        "try:\n",
        "    fasttext_model = KeyedVectors.load_word2vec_format('id.vec', binary=False)\n",
        "    print(\"FastText 'id.vec' berhasil dimuat.\")\n",
        "except Exception as e:\n",
        "    print(f\"Gagal memuat 'id.vec': {e}\")\n",
        "    raise ValueError(\"Gagal memuat FastText.\")"
      ],
      "metadata": {
        "colab": {
          "base_uri": "https://localhost:8080/"
        },
        "id": "Q_MFEaRyMq2F",
        "outputId": "456bd894-319e-454b-fc49-7438baebac1c"
      },
      "execution_count": 28,
      "outputs": [
        {
          "output_type": "stream",
          "name": "stdout",
          "text": [
            "FastText 'id.vec' berhasil dimuat.\n"
          ]
        }
      ]
    },
    {
      "cell_type": "code",
      "source": [
        "# -------------------------------------------\n",
        "# Section 3: Memuat Dataset dan Ekstraksi Data (NER + Intent)\n",
        "# -------------------------------------------\n",
        "data_path = 'data2.json'\n",
        "with open(data_path, 'r', encoding='utf-8') as f:\n",
        "    conversations = json.load(f)\n",
        "\n",
        "def char_offset_to_token_labels(utterance, entities, tokenizer=lambda x: x.split()):\n",
        "    tokens = tokenizer(utterance)\n",
        "    labels = [\"O\"] * len(tokens)\n",
        "    char_pos = 0\n",
        "    token_ranges = []\n",
        "    for t in tokens:\n",
        "        start_pos = char_pos\n",
        "        end_pos = start_pos + len(t)\n",
        "        token_ranges.append((start_pos, end_pos))\n",
        "        char_pos = end_pos + 1\n",
        "    for ent in entities:\n",
        "        ent_start = ent['start']\n",
        "        ent_end = ent['end']\n",
        "        ent_type = ent['entity'].upper()  # 'ANIMAL', 'LOCATION', 'SYMBOL', ...\n",
        "        ent_token_positions = []\n",
        "        for i, (ts, te) in enumerate(token_ranges):\n",
        "            if not (te <= ent_start or ts >= ent_end):\n",
        "                ent_token_positions.append(i)\n",
        "        if len(ent_token_positions) > 0:\n",
        "            labels[ent_token_positions[0]] = \"B-\" + ent_type\n",
        "            for p in ent_token_positions[1:]:\n",
        "                labels[p] = \"I-\" + ent_type\n",
        "    return tokens, labels\n",
        "\n",
        "user_utterances = []\n",
        "intents = []\n",
        "entity_labels = []\n",
        "\n",
        "for conv in conversations:\n",
        "    for turn in conv[\"turns\"]:\n",
        "        if turn[\"speaker\"] == \"user\":\n",
        "            utt = turn[\"utterance\"]\n",
        "            ents = turn.get(\"entities\", [])\n",
        "            intent = turn.get(\"intent\", \"None\")\n",
        "            tokens, ner_tags = char_offset_to_token_labels(utt, ents)\n",
        "            user_utterances.append(tokens)\n",
        "            intents.append(intent)\n",
        "            entity_labels.append(ner_tags)"
      ],
      "metadata": {
        "id": "VPHRyOpHMv5q"
      },
      "execution_count": 30,
      "outputs": []
    },
    {
      "cell_type": "code",
      "source": [
        "# -------------------------------------------\n",
        "# Section 4: Preprocessing Teks\n",
        "# -------------------------------------------\n",
        "with open('stopword_list_tala.txt', 'r', encoding='utf-8') as f:\n",
        "    stop_words = f.read().splitlines()\n",
        "stop_words = set(word.strip().lower() for word in stop_words)\n",
        "\n",
        "factory = StemmerFactory()\n",
        "stemmer = factory.create_stemmer()\n",
        "\n",
        "def clean_text(text):\n",
        "    text = text.lower()\n",
        "    text = re.sub(r'[^\\w\\s]', '', text)\n",
        "    return text\n",
        "\n",
        "def preprocess_text_intent(text):\n",
        "    \"\"\"Preprocessing untuk Intent Classification: termasuk stemming.\"\"\"\n",
        "    text = clean_text(text)\n",
        "    tokens = text.split()\n",
        "    tokens = [w for w in tokens if w not in stop_words]\n",
        "    tokens = [stemmer.stem(w) for w in tokens]\n",
        "    return ' '.join(tokens)\n",
        "\n",
        "def preprocess_text_ner(text):\n",
        "    \"\"\"Preprocessing untuk NER: tanpa stemming.\"\"\"\n",
        "    text = clean_text(text)\n",
        "    tokens = text.split()\n",
        "    tokens = [w for w in tokens if w not in stop_words]\n",
        "    return ' '.join(tokens)\n",
        "\n",
        "# Preprocessing Intent Classification\n",
        "utterances_joined_intent = [' '.join(utt) for utt in user_utterances]\n",
        "utterances_clean_intent = [preprocess_text_intent(u) for u in utterances_joined_intent]\n",
        "\n",
        "# Preprocessing NER\n",
        "utterances_clean_ner = [preprocess_text_ner(u) for u in utterances_joined_intent]\n",
        "\n",
        "df_data = pd.DataFrame({\n",
        "    'utterances': utterances_joined_intent,\n",
        "    'intent': intents,\n",
        "    'entities': entity_labels,\n",
        "    'utterances_clean_intent': utterances_clean_intent,\n",
        "    'utterances_clean_ner': utterances_clean_ner\n",
        "})\n",
        "\n",
        "label_encoder_intent = LabelEncoder()\n",
        "df_data['intent_label'] = label_encoder_intent.fit_transform(df_data['intent'])\n",
        "\n",
        "# Oversampling untuk menangani ketidakseimbangan data\n",
        "ros = RandomOverSampler(random_state=42)\n",
        "X = df_data.index.values.reshape(-1, 1)\n",
        "y = df_data['intent_label']\n",
        "X_ros, y_ros = ros.fit_resample(X, y)\n",
        "df_balanced = df_data.loc[X_ros.flatten()].reset_index(drop=True)\n",
        "df_balanced['intent_label'] = y_ros\n",
        "df_balanced['intent'] = label_encoder_intent.inverse_transform(df_balanced['intent_label'])"
      ],
      "metadata": {
        "id": "i65Vl9PhN4Gj"
      },
      "execution_count": 31,
      "outputs": []
    },
    {
      "cell_type": "code",
      "source": [
        "# -------------------------------------------\n",
        "# Section 5: Split Data Intent\n",
        "# -------------------------------------------\n",
        "texts_intent = df_balanced['utterances_clean_intent'].tolist()\n",
        "labels_intent = df_balanced['intent_label'].tolist()\n",
        "\n",
        "train_texts_intent, val_texts_intent, train_labels_intent, val_labels_intent = train_test_split(\n",
        "    texts_intent,\n",
        "    labels_intent,\n",
        "    test_size=0.2,\n",
        "    random_state=42,\n",
        "    stratify=labels_intent\n",
        ")\n",
        "\n",
        "# Tokenizer untuk Intent\n",
        "tokenizer_intent = tf.keras.preprocessing.text.Tokenizer(oov_token='<OOV>')\n",
        "tokenizer_intent.fit_on_texts(train_texts_intent)\n",
        "word_index_intent = tokenizer_intent.word_index\n",
        "vocab_size_intent = len(word_index_intent) + 1\n",
        "\n",
        "train_sequences_intent = tokenizer_intent.texts_to_sequences(train_texts_intent)\n",
        "val_sequences_intent = tokenizer_intent.texts_to_sequences(val_texts_intent)\n",
        "max_seq_length_intent = max(\n",
        "    max(len(seq) for seq in train_sequences_intent),\n",
        "    max(len(seq) for seq in val_sequences_intent)\n",
        ")\n",
        "train_padded_intent = tf.keras.preprocessing.sequence.pad_sequences(\n",
        "    train_sequences_intent, maxlen=max_seq_length_intent, padding='post'\n",
        ")\n",
        "val_padded_intent = tf.keras.preprocessing.sequence.pad_sequences(\n",
        "    val_sequences_intent, maxlen=max_seq_length_intent, padding='post'\n",
        ")\n",
        "\n",
        "num_classes_intent = len(label_encoder_intent.classes_)\n",
        "train_labels_cat_intent = tf.keras.utils.to_categorical(train_labels_intent, num_classes=num_classes_intent)\n",
        "val_labels_cat_intent = tf.keras.utils.to_categorical(val_labels_intent, num_classes=num_classes_intent)\n",
        "\n",
        "# Embedding Matrix untuk Intent\n",
        "embedding_dim = 300\n",
        "embedding_matrix_intent = np.zeros((vocab_size_intent, embedding_dim))\n",
        "for word, idx in word_index_intent.items():\n",
        "    if word in fasttext_model:\n",
        "        embedding_matrix_intent[idx] = fasttext_model[word]\n",
        "    else:\n",
        "        embedding_matrix_intent[idx] = np.random.normal(scale=0.6, size=(embedding_dim,))"
      ],
      "metadata": {
        "id": "-SBv8iSZPFya"
      },
      "execution_count": 32,
      "outputs": []
    },
    {
      "cell_type": "code",
      "source": [
        "# -------------------------------------------\n",
        "# Section 6: NER Label Encoding\n",
        "# -------------------------------------------\n",
        "all_labels_ner = set()\n",
        "for tags in df_balanced['entities']:\n",
        "    for t in tags:\n",
        "        all_labels_ner.add(t)\n",
        "all_labels_ner = sorted(list(all_labels_ner))\n",
        "\n",
        "# Tambahkan label 'O' jika belum ada\n",
        "if 'O' not in all_labels_ner:\n",
        "    all_labels_ner.insert(0, 'O')\n",
        "\n",
        "ner_label_encoder = {label: idx for idx, label in enumerate(all_labels_ner)}\n",
        "ner_label_decoder = {idx: label for label, idx in ner_label_encoder.items()}\n",
        "\n",
        "def encode_ner_labels(labels, max_len):\n",
        "    encoded = []\n",
        "    for lab_seq in labels:\n",
        "        seq_ids = [ner_label_encoder.get(l, ner_label_encoder['O']) for l in lab_seq]\n",
        "        if len(seq_ids) < max_len:\n",
        "            seq_ids = seq_ids + [ner_label_encoder['O']] * (max_len - len(seq_ids))\n",
        "        else:\n",
        "            seq_ids = seq_ids[:max_len]\n",
        "        encoded.append(seq_ids)\n",
        "    return np.array(encoded)\n",
        "\n",
        "texts_ner = df_balanced['utterances_clean_ner'].tolist()\n",
        "labels_ner = df_balanced['entities'].tolist()\n",
        "\n",
        "train_texts_ner, val_texts_ner, train_labels_ner, val_labels_ner = train_test_split(\n",
        "    texts_ner,\n",
        "    labels_ner,\n",
        "    test_size=0.2,\n",
        "    random_state=42,\n",
        "    stratify=df_balanced['intent_label']\n",
        ")\n",
        "\n",
        "# Tokenizer untuk NER\n",
        "tokenizer_ner = tf.keras.preprocessing.text.Tokenizer(oov_token='<OOV>')\n",
        "tokenizer_ner.fit_on_texts(train_texts_ner)\n",
        "word_index_ner = tokenizer_ner.word_index\n",
        "vocab_size_ner = len(word_index_ner) + 1\n",
        "\n",
        "train_sequences_ner = tokenizer_ner.texts_to_sequences(train_texts_ner)\n",
        "val_sequences_ner = tokenizer_ner.texts_to_sequences(val_texts_ner)\n",
        "max_seq_length_ner = max(\n",
        "    max(len(seq) for seq in train_sequences_ner),\n",
        "    max(len(seq) for seq in val_sequences_ner)\n",
        ")\n",
        "train_padded_ner = tf.keras.preprocessing.sequence.pad_sequences(\n",
        "    train_sequences_ner, maxlen=max_seq_length_ner, padding='post'\n",
        ")\n",
        "val_padded_ner = tf.keras.preprocessing.sequence.pad_sequences(\n",
        "    val_sequences_ner, maxlen=max_seq_length_ner, padding='post'\n",
        ")\n",
        "\n",
        "# Encode NER labels\n",
        "Y_ner_train = encode_ner_labels(train_labels_ner, max_seq_length_ner)\n",
        "Y_ner_val = encode_ner_labels(val_labels_ner, max_seq_length_ner)"
      ],
      "metadata": {
        "id": "Cv9s7YhSPJPq"
      },
      "execution_count": 33,
      "outputs": []
    },
    {
      "cell_type": "code",
      "source": [
        "# -------------------------------------------\n",
        "# Section 7: Build Model Intent\n",
        "# -------------------------------------------\n",
        "@tf.keras.utils.register_keras_serializable()\n",
        "class AttentionLayer(tf.keras.layers.Layer):\n",
        "    def __init__(self, **kwargs):\n",
        "        super(AttentionLayer, self).__init__(**kwargs)\n",
        "\n",
        "    def build(self, input_shape):\n",
        "        self.W = self.add_weight(name='att_weight', shape=(input_shape[-1], 1),\n",
        "                                 initializer='glorot_uniform', trainable=True)\n",
        "        self.b = self.add_weight(name='att_bias', shape=(1,),\n",
        "                                 initializer='zeros', trainable=True)\n",
        "        super(AttentionLayer, self).build(input_shape)\n",
        "\n",
        "    def call(self, x):\n",
        "        e = tf.squeeze(tf.tensordot(x, self.W, axes=1), axis=-1) + self.b\n",
        "        alpha = tf.nn.softmax(e)\n",
        "        alpha = tf.expand_dims(alpha, axis=-1)\n",
        "        context = x * alpha\n",
        "        return tf.reduce_sum(context, axis=1)\n",
        "\n",
        "def build_intent_model(embedding_matrix, max_seq_length, num_classes, l2_reg=1e-3):\n",
        "    inputs = tf.keras.Input(shape=(max_seq_length,), dtype='int32')\n",
        "    emb = tf.keras.layers.Embedding(\n",
        "        input_dim=embedding_matrix.shape[0],\n",
        "        output_dim=embedding_matrix.shape[1],\n",
        "        weights=[embedding_matrix],\n",
        "        input_length=max_seq_length,\n",
        "        trainable=True,\n",
        "        mask_zero=True\n",
        "    )(inputs)\n",
        "    # Menggunakan Bidirectional LSTM dengan return_sequences=True\n",
        "    x = tf.keras.layers.Bidirectional(\n",
        "        tf.keras.layers.LSTM(128, return_sequences=True)\n",
        "    )(emb)\n",
        "    # Attention Layer\n",
        "    att = AttentionLayer()(x)\n",
        "    # Dense Layer\n",
        "    dense = tf.keras.layers.Dense(\n",
        "        128, activation='relu',\n",
        "        kernel_regularizer=tf.keras.regularizers.l2(l2_reg)\n",
        "    )(att)\n",
        "    # Dropout\n",
        "    dropout = tf.keras.layers.Dropout(0.5)(dense)\n",
        "    # Output Layer\n",
        "    outputs = tf.keras.layers.Dense(num_classes, activation='softmax')(dropout)\n",
        "    model = tf.keras.Model(inputs=inputs, outputs=outputs)\n",
        "    model.compile(optimizer='adam', loss='categorical_crossentropy', metrics=['accuracy'])\n",
        "    return model\n",
        "\n",
        "intent_model = build_intent_model(\n",
        "    embedding_matrix_intent,\n",
        "    max_seq_length_intent,\n",
        "    num_classes_intent\n",
        ")\n",
        "early_intent = tf.keras.callbacks.EarlyStopping(\n",
        "    monitor='val_loss', patience=5, restore_best_weights=True\n",
        ")\n",
        "\n",
        "print(\"=== Model Intent Summary ===\")\n",
        "intent_model.summary()\n",
        "\n",
        "history_intent = intent_model.fit(\n",
        "    train_padded_intent, train_labels_cat_intent,\n",
        "    validation_data=(val_padded_intent, val_labels_cat_intent),\n",
        "    epochs=30, batch_size=16,\n",
        "    callbacks=[early_intent]\n",
        ")"
      ],
      "metadata": {
        "colab": {
          "base_uri": "https://localhost:8080/"
        },
        "id": "wGOKLW94PMY3",
        "outputId": "617d779d-0af3-402d-ff97-1fa678c9a932"
      },
      "execution_count": 34,
      "outputs": [
        {
          "output_type": "stream",
          "name": "stdout",
          "text": [
            "=== Model Intent Summary ===\n",
            "Model: \"model_2\"\n",
            "_________________________________________________________________\n",
            " Layer (type)                Output Shape              Param #   \n",
            "=================================================================\n",
            " input_3 (InputLayer)        [(None, 9)]               0         \n",
            "                                                                 \n",
            " embedding_2 (Embedding)     (None, 9, 300)            46800     \n",
            "                                                                 \n",
            " bidirectional_3 (Bidirecti  (None, 9, 256)            439296    \n",
            " onal)                                                           \n",
            "                                                                 \n",
            " attention_layer_1 (Attenti  (None, 256)               257       \n",
            " onLayer)                                                        \n",
            "                                                                 \n",
            " dense_4 (Dense)             (None, 128)               32896     \n",
            "                                                                 \n",
            " dropout_2 (Dropout)         (None, 128)               0         \n",
            "                                                                 \n",
            " dense_5 (Dense)             (None, 5)                 645       \n",
            "                                                                 \n",
            "=================================================================\n",
            "Total params: 519894 (1.98 MB)\n",
            "Trainable params: 519894 (1.98 MB)\n",
            "Non-trainable params: 0 (0.00 Byte)\n",
            "_________________________________________________________________\n",
            "Epoch 1/30\n",
            "18/18 [==============================] - 16s 249ms/step - loss: 1.5587 - accuracy: 0.4607 - val_loss: 1.1773 - val_accuracy: 0.6286\n",
            "Epoch 2/30\n",
            "18/18 [==============================] - 1s 41ms/step - loss: 0.9624 - accuracy: 0.7286 - val_loss: 0.6645 - val_accuracy: 0.8571\n",
            "Epoch 3/30\n",
            "18/18 [==============================] - 1s 70ms/step - loss: 0.5551 - accuracy: 0.8893 - val_loss: 0.4140 - val_accuracy: 0.8857\n",
            "Epoch 4/30\n",
            "18/18 [==============================] - 1s 80ms/step - loss: 0.3231 - accuracy: 0.9536 - val_loss: 0.3579 - val_accuracy: 0.9143\n",
            "Epoch 5/30\n",
            "18/18 [==============================] - 3s 147ms/step - loss: 0.2131 - accuracy: 0.9750 - val_loss: 0.2365 - val_accuracy: 0.9714\n",
            "Epoch 6/30\n",
            "18/18 [==============================] - 1s 40ms/step - loss: 0.1634 - accuracy: 0.9929 - val_loss: 0.2393 - val_accuracy: 0.9429\n",
            "Epoch 7/30\n",
            "18/18 [==============================] - 1s 40ms/step - loss: 0.1875 - accuracy: 0.9893 - val_loss: 0.2754 - val_accuracy: 0.9429\n",
            "Epoch 8/30\n",
            "18/18 [==============================] - 1s 40ms/step - loss: 0.1807 - accuracy: 0.9786 - val_loss: 0.2313 - val_accuracy: 0.9286\n",
            "Epoch 9/30\n",
            "18/18 [==============================] - 1s 41ms/step - loss: 0.1386 - accuracy: 0.9964 - val_loss: 0.2170 - val_accuracy: 0.9571\n",
            "Epoch 10/30\n",
            "18/18 [==============================] - 1s 42ms/step - loss: 0.1240 - accuracy: 0.9929 - val_loss: 0.2820 - val_accuracy: 0.9429\n",
            "Epoch 11/30\n",
            "18/18 [==============================] - 1s 42ms/step - loss: 0.1255 - accuracy: 0.9964 - val_loss: 0.2185 - val_accuracy: 0.9571\n",
            "Epoch 12/30\n",
            "18/18 [==============================] - 1s 40ms/step - loss: 0.1050 - accuracy: 1.0000 - val_loss: 0.2242 - val_accuracy: 0.9429\n",
            "Epoch 13/30\n",
            "18/18 [==============================] - 1s 42ms/step - loss: 0.0990 - accuracy: 1.0000 - val_loss: 0.1943 - val_accuracy: 0.9571\n",
            "Epoch 14/30\n",
            "18/18 [==============================] - 1s 41ms/step - loss: 0.0921 - accuracy: 1.0000 - val_loss: 0.1787 - val_accuracy: 0.9571\n",
            "Epoch 15/30\n",
            "18/18 [==============================] - 1s 41ms/step - loss: 0.0880 - accuracy: 1.0000 - val_loss: 0.1680 - val_accuracy: 0.9714\n",
            "Epoch 16/30\n",
            "18/18 [==============================] - 1s 39ms/step - loss: 0.0870 - accuracy: 0.9964 - val_loss: 0.2100 - val_accuracy: 0.9429\n",
            "Epoch 17/30\n",
            "18/18 [==============================] - 1s 41ms/step - loss: 0.0805 - accuracy: 1.0000 - val_loss: 0.2054 - val_accuracy: 0.9429\n",
            "Epoch 18/30\n",
            "18/18 [==============================] - 1s 42ms/step - loss: 0.0761 - accuracy: 1.0000 - val_loss: 0.1758 - val_accuracy: 0.9571\n",
            "Epoch 19/30\n",
            "18/18 [==============================] - 1s 68ms/step - loss: 0.0718 - accuracy: 1.0000 - val_loss: 0.1578 - val_accuracy: 0.9571\n",
            "Epoch 20/30\n",
            "18/18 [==============================] - 1s 82ms/step - loss: 0.0681 - accuracy: 1.0000 - val_loss: 0.1516 - val_accuracy: 0.9571\n",
            "Epoch 21/30\n",
            "18/18 [==============================] - 1s 81ms/step - loss: 0.0648 - accuracy: 1.0000 - val_loss: 0.1647 - val_accuracy: 0.9571\n",
            "Epoch 22/30\n",
            "18/18 [==============================] - 1s 46ms/step - loss: 0.0616 - accuracy: 1.0000 - val_loss: 0.1669 - val_accuracy: 0.9571\n",
            "Epoch 23/30\n",
            "18/18 [==============================] - 1s 42ms/step - loss: 0.0586 - accuracy: 1.0000 - val_loss: 0.1481 - val_accuracy: 0.9714\n",
            "Epoch 24/30\n",
            "18/18 [==============================] - 1s 44ms/step - loss: 0.0553 - accuracy: 1.0000 - val_loss: 0.1451 - val_accuracy: 0.9714\n",
            "Epoch 25/30\n",
            "18/18 [==============================] - 1s 46ms/step - loss: 0.0528 - accuracy: 1.0000 - val_loss: 0.1488 - val_accuracy: 0.9571\n",
            "Epoch 26/30\n",
            "18/18 [==============================] - 1s 43ms/step - loss: 0.0500 - accuracy: 1.0000 - val_loss: 0.1520 - val_accuracy: 0.9571\n",
            "Epoch 27/30\n",
            "18/18 [==============================] - 1s 40ms/step - loss: 0.0478 - accuracy: 1.0000 - val_loss: 0.1382 - val_accuracy: 0.9571\n",
            "Epoch 28/30\n",
            "18/18 [==============================] - 1s 41ms/step - loss: 0.0448 - accuracy: 1.0000 - val_loss: 0.1229 - val_accuracy: 0.9714\n",
            "Epoch 29/30\n",
            "18/18 [==============================] - 1s 42ms/step - loss: 0.0426 - accuracy: 1.0000 - val_loss: 0.1242 - val_accuracy: 0.9714\n",
            "Epoch 30/30\n",
            "18/18 [==============================] - 1s 40ms/step - loss: 0.0404 - accuracy: 1.0000 - val_loss: 0.1205 - val_accuracy: 0.9714\n"
          ]
        }
      ]
    },
    {
      "cell_type": "code",
      "source": [
        "# -------------------------------------------\n",
        "# Section 8: Build Model NER tanpa CRF\n",
        "# -------------------------------------------\n",
        "\n",
        "# Create a separate embedding matrix for NER using the NER vocabulary\n",
        "embedding_matrix_ner = np.zeros((vocab_size_ner, embedding_dim))\n",
        "for word, idx in word_index_ner.items():\n",
        "    if word in fasttext_model:\n",
        "        embedding_matrix_ner[idx] = fasttext_model[word]\n",
        "    else:\n",
        "        embedding_matrix_ner[idx] = np.random.normal(scale=0.6, size=(embedding_dim,))\n",
        "\n",
        "def build_ner_model(embedding_matrix, max_seq_length, num_tags, dropout_rate=0.5):\n",
        "    inputs = tf.keras.Input(shape=(max_seq_length,), dtype='int32')\n",
        "    emb = tf.keras.layers.Embedding(\n",
        "        input_dim=embedding_matrix.shape[0],\n",
        "        output_dim=embedding_matrix.shape[1],\n",
        "        weights=[embedding_matrix],\n",
        "        input_length=max_seq_length,\n",
        "        trainable=True,\n",
        "        mask_zero=True\n",
        "    )(inputs)\n",
        "    # Menggunakan Bidirectional LSTM dengan return_sequences=True\n",
        "    x = tf.keras.layers.Bidirectional(\n",
        "        tf.keras.layers.LSTM(128, return_sequences=True)\n",
        "    )(emb)\n",
        "    x = tf.keras.layers.Bidirectional(\n",
        "        tf.keras.layers.LSTM(128, return_sequences=True)\n",
        "    )(x)\n",
        "    # Dense Layer\n",
        "    x = tf.keras.layers.TimeDistributed(\n",
        "        tf.keras.layers.Dense(128, activation='relu')\n",
        "    )(x)\n",
        "    # Dropout\n",
        "    x = tf.keras.layers.Dropout(dropout_rate)(x)\n",
        "    # Output Layer\n",
        "    outputs = tf.keras.layers.TimeDistributed(\n",
        "        tf.keras.layers.Dense(num_tags, activation='softmax')\n",
        "    )(x)\n",
        "    model = tf.keras.Model(inputs=inputs, outputs=outputs)\n",
        "    model.compile(optimizer='adam', loss='sparse_categorical_crossentropy', metrics=['accuracy'])\n",
        "    return model\n",
        "\n",
        "num_tags = len(ner_label_encoder)\n",
        "ner_model = build_ner_model(\n",
        "    embedding_matrix_ner,  # Use the NER embedding matrix\n",
        "    max_seq_length_ner,\n",
        "    num_tags\n",
        ")\n",
        "\n",
        "print(\"=== Model NER Summary ===\")\n",
        "ner_model.summary()\n",
        "\n",
        "early_ner = tf.keras.callbacks.EarlyStopping(\n",
        "    monitor='val_loss', patience=5, restore_best_weights=True\n",
        ")\n",
        "\n",
        "history_ner = ner_model.fit(\n",
        "    train_padded_ner, Y_ner_train,\n",
        "    validation_data=(val_padded_ner, Y_ner_val),\n",
        "    epochs=30, batch_size=16,\n",
        "    callbacks=[early_ner]\n",
        ")"
      ],
      "metadata": {
        "colab": {
          "base_uri": "https://localhost:8080/"
        },
        "id": "O1ktPPq8PPUv",
        "outputId": "53600e5b-2680-4126-82c3-bc82bd75a660"
      },
      "execution_count": 35,
      "outputs": [
        {
          "output_type": "stream",
          "name": "stdout",
          "text": [
            "=== Model NER Summary ===\n",
            "Model: \"model_3\"\n",
            "_________________________________________________________________\n",
            " Layer (type)                Output Shape              Param #   \n",
            "=================================================================\n",
            " input_4 (InputLayer)        [(None, 9)]               0         \n",
            "                                                                 \n",
            " embedding_3 (Embedding)     (None, 9, 300)            57000     \n",
            "                                                                 \n",
            " bidirectional_4 (Bidirecti  (None, 9, 256)            439296    \n",
            " onal)                                                           \n",
            "                                                                 \n",
            " bidirectional_5 (Bidirecti  (None, 9, 256)            394240    \n",
            " onal)                                                           \n",
            "                                                                 \n",
            " time_distributed_2 (TimeDi  (None, 9, 128)            32896     \n",
            " stributed)                                                      \n",
            "                                                                 \n",
            " dropout_3 (Dropout)         (None, 9, 128)            0         \n",
            "                                                                 \n",
            " time_distributed_3 (TimeDi  (None, 9, 11)             1419      \n",
            " stributed)                                                      \n",
            "                                                                 \n",
            "=================================================================\n",
            "Total params: 924851 (3.53 MB)\n",
            "Trainable params: 924851 (3.53 MB)\n",
            "Non-trainable params: 0 (0.00 Byte)\n",
            "_________________________________________________________________\n",
            "Epoch 1/30\n",
            "18/18 [==============================] - 39s 863ms/step - loss: 1.7124 - accuracy: 0.5654 - val_loss: 0.8975 - val_accuracy: 0.6815\n",
            "Epoch 2/30\n",
            "18/18 [==============================] - 2s 134ms/step - loss: 0.8931 - accuracy: 0.6519 - val_loss: 0.7264 - val_accuracy: 0.7000\n",
            "Epoch 3/30\n",
            "18/18 [==============================] - 2s 110ms/step - loss: 0.7321 - accuracy: 0.7228 - val_loss: 0.6121 - val_accuracy: 0.7185\n",
            "Epoch 4/30\n",
            "18/18 [==============================] - 3s 172ms/step - loss: 0.6059 - accuracy: 0.7551 - val_loss: 0.5033 - val_accuracy: 0.8074\n",
            "Epoch 5/30\n",
            "18/18 [==============================] - 2s 100ms/step - loss: 0.5174 - accuracy: 0.8149 - val_loss: 0.4241 - val_accuracy: 0.8370\n",
            "Epoch 6/30\n",
            "18/18 [==============================] - 1s 76ms/step - loss: 0.4219 - accuracy: 0.8352 - val_loss: 0.3610 - val_accuracy: 0.8741\n",
            "Epoch 7/30\n",
            "18/18 [==============================] - 1s 79ms/step - loss: 0.3392 - accuracy: 0.8748 - val_loss: 0.3633 - val_accuracy: 0.8333\n",
            "Epoch 8/30\n",
            "18/18 [==============================] - 1s 82ms/step - loss: 0.3348 - accuracy: 0.8720 - val_loss: 0.4758 - val_accuracy: 0.8000\n",
            "Epoch 9/30\n",
            "18/18 [==============================] - 1s 74ms/step - loss: 0.2877 - accuracy: 0.8867 - val_loss: 0.2820 - val_accuracy: 0.8963\n",
            "Epoch 10/30\n",
            "18/18 [==============================] - 1s 75ms/step - loss: 0.2189 - accuracy: 0.9245 - val_loss: 0.2444 - val_accuracy: 0.9222\n",
            "Epoch 11/30\n",
            "18/18 [==============================] - 1s 79ms/step - loss: 0.1739 - accuracy: 0.9346 - val_loss: 0.2149 - val_accuracy: 0.9370\n",
            "Epoch 12/30\n",
            "18/18 [==============================] - 2s 104ms/step - loss: 0.1355 - accuracy: 0.9457 - val_loss: 0.2126 - val_accuracy: 0.9333\n",
            "Epoch 13/30\n",
            "18/18 [==============================] - 3s 141ms/step - loss: 0.1192 - accuracy: 0.9595 - val_loss: 0.2309 - val_accuracy: 0.9333\n",
            "Epoch 14/30\n",
            "18/18 [==============================] - 2s 91ms/step - loss: 0.1033 - accuracy: 0.9613 - val_loss: 0.1952 - val_accuracy: 0.9370\n",
            "Epoch 15/30\n",
            "18/18 [==============================] - 1s 82ms/step - loss: 0.0703 - accuracy: 0.9770 - val_loss: 0.2182 - val_accuracy: 0.9333\n",
            "Epoch 16/30\n",
            "18/18 [==============================] - 1s 80ms/step - loss: 0.0595 - accuracy: 0.9797 - val_loss: 0.2045 - val_accuracy: 0.9333\n",
            "Epoch 17/30\n",
            "18/18 [==============================] - 1s 76ms/step - loss: 0.0432 - accuracy: 0.9871 - val_loss: 0.2289 - val_accuracy: 0.9370\n",
            "Epoch 18/30\n",
            "18/18 [==============================] - 1s 76ms/step - loss: 0.0467 - accuracy: 0.9843 - val_loss: 0.2122 - val_accuracy: 0.9370\n",
            "Epoch 19/30\n",
            "18/18 [==============================] - 1s 75ms/step - loss: 0.0558 - accuracy: 0.9816 - val_loss: 0.2285 - val_accuracy: 0.9333\n"
          ]
        }
      ]
    },
    {
      "cell_type": "code",
      "source": [
        "# -------------------------------------------\n",
        "# Section 9: Evaluasi Model\n",
        "# -------------------------------------------\n",
        "# Evaluasi Intent Classification\n",
        "loss_intent, acc_intent = intent_model.evaluate(val_padded_intent, val_labels_cat_intent)\n",
        "print(\"Akurasi Intent:\", acc_intent)\n",
        "\n",
        "# Evaluasi NER\n",
        "loss_ner, accuracy_ner = ner_model.evaluate(val_padded_ner, Y_ner_val)\n",
        "print(\"Akurasi NER:\", accuracy_ner)\n",
        "\n",
        "# Prediksi dan Metrik NER\n",
        "val_pred_ner = ner_model.predict(val_padded_ner)\n",
        "val_pred_ids = np.argmax(val_pred_ner, axis=-1)\n",
        "true_tag = [[ner_label_decoder[id_] for id_ in seq] for seq in Y_ner_val]\n",
        "pred_tag = [[ner_label_decoder[id_] for id_ in seq] for seq in val_pred_ids]\n",
        "\n",
        "print(seq_classification_report(true_tag, pred_tag))"
      ],
      "metadata": {
        "colab": {
          "base_uri": "https://localhost:8080/"
        },
        "id": "FqMaZIk4PfvG",
        "outputId": "4c6591dc-05ff-4cd0-bb96-179d638acd2b"
      },
      "execution_count": 36,
      "outputs": [
        {
          "output_type": "stream",
          "name": "stdout",
          "text": [
            "3/3 [==============================] - 0s 14ms/step - loss: 0.1205 - accuracy: 0.9714\n",
            "Akurasi Intent: 0.9714285731315613\n",
            "3/3 [==============================] - 0s 18ms/step - loss: 0.1974 - accuracy: 0.9370\n",
            "Akurasi NER: 0.9370370507240295\n",
            "3/3 [==============================] - 5s 43ms/step\n",
            "              precision    recall  f1-score   support\n",
            "\n",
            "      ANIMAL       0.97      0.97      0.97        30\n",
            "   CONDITION       1.00      0.80      0.89         5\n",
            "    LOCATION       0.00      0.00      0.00         9\n",
            "      STATUS       0.00      0.00      0.00         4\n",
            "     SYMPTOM       0.45      0.33      0.38        46\n",
            "\n",
            "   micro avg       0.65      0.51      0.57        94\n",
            "   macro avg       0.48      0.42      0.45        94\n",
            "weighted avg       0.58      0.51      0.54        94\n",
            "\n"
          ]
        },
        {
          "output_type": "stream",
          "name": "stderr",
          "text": [
            "/usr/local/lib/python3.10/dist-packages/seqeval/metrics/v1.py:57: UndefinedMetricWarning: Precision and F-score are ill-defined and being set to 0.0 in labels with no predicted samples. Use `zero_division` parameter to control this behavior.\n",
            "  _warn_prf(average, modifier, msg_start, len(result))\n"
          ]
        }
      ]
    },
    {
      "cell_type": "code",
      "source": [
        "# -------------------------------------------\n",
        "# Section 10: Visualisasi Hasil Training\n",
        "# -------------------------------------------\n",
        "def plot_history(history, title_prefix=\"\"):\n",
        "    fig, ax = plt.subplots(1,2, figsize=(12,5))\n",
        "    # Accuracy\n",
        "    ax[0].plot(history.history['accuracy'], label='train')\n",
        "    ax[0].plot(history.history['val_accuracy'], label='val')\n",
        "    ax[0].set_title(f\"{title_prefix} Accuracy\")\n",
        "    ax[0].set_xlabel(\"Epoch\")\n",
        "    ax[0].set_ylabel(\"Accuracy\")\n",
        "    ax[0].legend()\n",
        "    # Loss\n",
        "    ax[1].plot(history.history['loss'], label='train')\n",
        "    ax[1].plot(history.history['val_loss'], label='val')\n",
        "    ax[1].set_title(f\"{title_prefix} Loss\")\n",
        "    ax[1].set_xlabel(\"Epoch\")\n",
        "    ax[1].set_ylabel(\"Loss\")\n",
        "    ax[1].legend()\n",
        "    plt.show()\n",
        "\n",
        "plot_history(history_intent, \"Intent Classification\")\n",
        "plot_history(history_ner, \"NER\")"
      ],
      "metadata": {
        "colab": {
          "base_uri": "https://localhost:8080/",
          "height": 957
        },
        "id": "trOAHrwDP3Mt",
        "outputId": "4d8a9ce4-5f4d-45f2-dd06-c6b4203bedc1"
      },
      "execution_count": 37,
      "outputs": [
        {
          "output_type": "display_data",
          "data": {
            "text/plain": [
              "<Figure size 1200x500 with 2 Axes>"
            ],
            "image/png": "[encoded data removed]"
          },
          "metadata": {}
        },
        {
          "output_type": "display_data",
          "data": {
            "text/plain": [
              "<Figure size 1200x500 with 2 Axes>"
            ],
            "image/png": "[encoded data removed]"
          },
          "metadata": {}
        }
      ]
    },
    {
      "cell_type": "code",
      "source": [
        "# -------------------------------------------\n",
        "# Section 11: Prediksi dan Visualisasi NER\n",
        "# -------------------------------------------\n",
        "def visualize_ner_prediction(text):\n",
        "    \"\"\"Menampilkan prediksi NER tanpa CRF.\"\"\"\n",
        "    text_clean = preprocess_text_ner(text)\n",
        "    seq = tokenizer_ner.texts_to_sequences([text_clean])[0]\n",
        "    padded = tf.keras.preprocessing.sequence.pad_sequences([seq], maxlen=max_seq_length_ner, padding='post')\n",
        "    pred = ner_model.predict(padded)\n",
        "    pred_ids = np.argmax(pred, axis=-1)[0]\n",
        "    tokens = text_clean.split()\n",
        "    for i, tk in enumerate(tokens[:max_seq_length_ner]):\n",
        "        label = ner_label_decoder.get(pred_ids[i], 'O')\n",
        "        print(f\"{tk} -> {label}\")\n",
        "\n",
        "# Contoh Prediksi NER\n",
        "test_sentence_1 = \"Saya melihat seekor kucing di toko\"\n",
        "print(\"Prediksi NER untuk:\", test_sentence_1)\n",
        "visualize_ner_prediction(test_sentence_1)\n",
        "\n",
        "print(\"\\nPrediksi NER untuk:\", \"Ada anjing dengan kulit merah dan gatal di depan sekolah.\")\n",
        "visualize_ner_prediction(\"Ada anjing dengan kulit merah dan gatal di depan sekolah.\")"
      ],
      "metadata": {
        "colab": {
          "base_uri": "https://localhost:8080/"
        },
        "id": "Aprz0lXwQEW6",
        "outputId": "61a73a63-054b-45b0-c981-6ce2da5610cf"
      },
      "execution_count": 38,
      "outputs": [
        {
          "output_type": "stream",
          "name": "stdout",
          "text": [
            "Prediksi NER untuk: Saya melihat seekor kucing di toko\n",
            "1/1 [==============================] - 0s 50ms/step\n",
            "seekor -> O\n",
            "kucing -> O\n",
            "toko -> B-ANIMAL\n",
            "\n",
            "Prediksi NER untuk: Ada anjing dengan kulit merah dan gatal di depan sekolah.\n",
            "1/1 [==============================] - 0s 54ms/step\n",
            "anjing -> O\n",
            "kulit -> B-ANIMAL\n",
            "merah -> O\n",
            "gatal -> B-SYMPTOM\n",
            "sekolah -> I-SYMPTOM\n"
          ]
        }
      ]
    },
    {
      "cell_type": "code",
      "source": [
        "# -------------------------------------------\n",
        "# Section 12: Integrasi dengan Retrieval-based Response\n",
        "# -------------------------------------------\n",
        "knowledge_base = []\n",
        "for conv in conversations:\n",
        "    turns = conv[\"turns\"]\n",
        "    for i in range(len(turns)-1):\n",
        "        if turns[i][\"speaker\"] == \"user\" and turns[i+1][\"speaker\"] == \"bot\":\n",
        "            user_utt = turns[i][\"utterance\"]\n",
        "            bot_utt = turns[i+1][\"utterance\"]\n",
        "            user_utt_clean = preprocess_text_ner(user_utt)\n",
        "            knowledge_base.append((user_utt_clean, bot_utt))\n",
        "\n",
        "df_kb = pd.DataFrame(knowledge_base, columns=[\"user_clean\",\"bot_response\"])\n",
        "vectorizer = TfidfVectorizer()\n",
        "X_vec = vectorizer.fit_transform(df_kb[\"user_clean\"])"
      ],
      "metadata": {
        "id": "DmN_4jKBQNcq"
      },
      "execution_count": 17,
      "outputs": []
    },
    {
      "cell_type": "code",
      "source": [
        "# -------------------------------------------\n",
        "# Section 13: Menyimpan Model, Encoders, dan Data\n",
        "# -------------------------------------------\n",
        "# Membuat direktori jika belum ada\n",
        "import os\n",
        "\n",
        "os.makedirs('app/models', exist_ok=True)\n",
        "os.makedirs('app/encoders', exist_ok=True)\n",
        "os.makedirs('app/data', exist_ok=True)\n",
        "\n",
        "# Menyimpan model Intent\n",
        "intent_model.save('app/models/model_intent.keras')\n",
        "print(\"Model Intent disimpan di 'app/models/model_intent.keras'.\")\n",
        "\n",
        "# Menyimpan model NER\n",
        "ner_model.save('app/models/model_ner.keras')\n",
        "print(\"Model NER disimpan di 'app/models/model_ner.keras'.\")\n",
        "\n",
        "# Menyimpan tokenizer Intent\n",
        "with open('app/encoders/tokenizer_intent.pickle', 'wb') as handle:\n",
        "    pickle.dump(tokenizer_intent, handle, protocol=pickle.HIGHEST_PROTOCOL)\n",
        "print(\"Tokenizer Intent disimpan di 'app/encoders/tokenizer_intent.pickle'.\")\n",
        "\n",
        "# Menyimpan label encoder Intent\n",
        "with open('app/encoders/label_encoder_intent.pickle', 'wb') as handle:\n",
        "    pickle.dump(label_encoder_intent, handle, protocol=pickle.HIGHEST_PROTOCOL)\n",
        "print(\"Label Encoder Intent disimpan di 'app/encoders/label_encoder_intent.pickle'.\")\n",
        "\n",
        "# Menyimpan tokenizer NER\n",
        "with open('app/encoders/tokenizer_ner.pickle', 'wb') as handle:\n",
        "    pickle.dump(tokenizer_ner, handle, protocol=pickle.HIGHEST_PROTOCOL)\n",
        "print(\"Tokenizer NER disimpan di 'app/encoders/tokenizer_ner.pickle'.\")\n",
        "\n",
        "# Menyimpan ner label encoder\n",
        "with open('app/encoders/ner_label_encoder.pickle', 'wb') as handle:\n",
        "    pickle.dump(ner_label_encoder, handle, protocol=pickle.HIGHEST_PROTOCOL)\n",
        "print(\"NER Label Encoder disimpan di 'app/encoders/ner_label_encoder.pickle'.\")\n",
        "\n",
        "# Menyimpan vectorizer dan tfidf_matrix yang sebenarnya\n",
        "with open('app/data/vectorizer.pickle', 'wb') as handle:\n",
        "    pickle.dump(vectorizer, handle, protocol=pickle.HIGHEST_PROTOCOL)\n",
        "print(\"Vectorizer disimpan di 'app/data/vectorizer.pickle'.\")\n",
        "\n",
        "with open('app/data/tfidf_matrix.pickle', 'wb') as handle:\n",
        "    pickle.dump(X_vec, handle, protocol=pickle.HIGHEST_PROTOCOL)\n",
        "print(\"TF-IDF Matrix disimpan di 'app/data/tfidf_matrix.pickle'.\")\n",
        "\n",
        "# Menyimpan DataFrame respons\n",
        "df_utterances = pd.DataFrame({\n",
        "    'user_clean': df_balanced['utterances_clean_ner'],\n",
        "    'responses': df_balanced['utterances']  # Sesuaikan dengan kolom respons sebenarnya\n",
        "})\n",
        "df_utterances.to_pickle('app/data/df_utterances.pkl')\n",
        "print(\"DataFrame Respons disimpan di 'app/data/df_utterances.pkl'.\")"
      ],
      "metadata": {
        "colab": {
          "base_uri": "https://localhost:8080/"
        },
        "id": "px9zri5NQVsn",
        "outputId": "637e1586-0e33-447f-f0eb-60b39b5d389c"
      },
      "execution_count": 18,
      "outputs": [
        {
          "output_type": "stream",
          "name": "stdout",
          "text": [
            "Model Intent disimpan di 'app/models/model_intent.keras'.\n",
            "Model NER disimpan di 'app/models/model_ner.keras'.\n",
            "Tokenizer Intent disimpan di 'app/encoders/tokenizer_intent.pickle'.\n",
            "Label Encoder Intent disimpan di 'app/encoders/label_encoder_intent.pickle'.\n",
            "Tokenizer NER disimpan di 'app/encoders/tokenizer_ner.pickle'.\n",
            "NER Label Encoder disimpan di 'app/encoders/ner_label_encoder.pickle'.\n",
            "Vectorizer disimpan di 'app/data/vectorizer.pickle'.\n",
            "TF-IDF Matrix disimpan di 'app/data/tfidf_matrix.pickle'.\n",
            "DataFrame Respons disimpan di 'app/data/df_utterances.pkl'.\n"
          ]
        }
      ]
    },
    {
      "cell_type": "code",
      "source": [
        "# -------------------------------------------\n",
        "# Section 14: Multi-turn Dialog dengan ipywidgets\n",
        "# -------------------------------------------\n",
        "dialog_history = []\n",
        "MAX_HISTORY = 2\n",
        "\n",
        "def combined_context(new_input):\n",
        "    history_context = dialog_history[-MAX_HISTORY:] if len(dialog_history) > MAX_HISTORY else dialog_history\n",
        "    return \" \".join(history_context + [new_input])\n",
        "\n",
        "def chatbot_response_multi_turn(user_input):\n",
        "    dialog_history.append(user_input)\n",
        "    response = get_best_response(combined_context(user_input))\n",
        "    return response\n",
        "\n",
        "input_box = widgets.Text(\n",
        "    placeholder='Ketik pertanyaan Anda...',\n",
        "    description='User Input:',\n",
        "    disabled=False\n",
        ")\n",
        "\n",
        "send_button = widgets.Button(\n",
        "    description='Kirim',\n",
        "    button_style='success'\n",
        ")\n",
        "\n",
        "output_area = widgets.Output()\n",
        "\n",
        "def on_send_clicked(b):\n",
        "    user_input = input_box.value.strip()\n",
        "    if user_input:\n",
        "        resp = chatbot_response_multi_turn(user_input)\n",
        "        with output_area:\n",
        "            print(f\"User: {user_input}\")\n",
        "            print(f\"Chatbot: {resp}\\n\")\n",
        "    input_box.value = \"\"\n",
        "\n",
        "send_button.on_click(on_send_clicked)\n",
        "\n",
        "display(input_box, send_button, output_area)\n",
        "\n",
        "print(\"Notebook siap untuk presentasi. Model NER tanpa CRF telah diterapkan, visualisasi lengkap, dan ipywidgets untuk interaksi multi-turn dialog tersedia.\")"
      ],
      "metadata": {
        "colab": {
          "base_uri": "https://localhost:8080/",
          "height": 414,
          "referenced_widgets": [
            "6fc7b27eef864546bf031362eb71b380",
            "d53b8dc4c96247f794439c04d8ba4f25",
            "e0afcd4ee9d0472596d15ee88f16138e",
            "37a0d3daa5b94e1ca5ee954b6d3c1892",
            "d58cf12ffa09419da974e47b767dcce8",
            "caa75cbb3b7e4948a2116e1f818693e6",
            "48ba7a8153764959afb26d0d7811540d",
            "9323fbbe9baa481491cbec3051d1fa8f"
          ]
        },
        "id": "9VfVmdx7QZPA",
        "outputId": "d74c05f5-23b4-478f-ac8f-9367aa56c718"
      },
      "execution_count": 19,
      "outputs": [
        {
          "output_type": "display_data",
          "data": {
            "text/plain": [
              "Text(value='', description='User Input:', placeholder='Ketik pertanyaan Anda...')"
            ],
            "application/vnd.jupyter.widget-view+json": {
              "version_major": 2,
              "version_minor": 0,
              "model_id": "6fc7b27eef864546bf031362eb71b380"
            }
          },
          "metadata": {}
        },
        {
          "output_type": "display_data",
          "data": {
            "text/plain": [
              "Button(button_style='success', description='Kirim', style=ButtonStyle())"
            ],
            "application/vnd.jupyter.widget-view+json": {
              "version_major": 2,
              "version_minor": 0,
              "model_id": "37a0d3daa5b94e1ca5ee954b6d3c1892"
            }
          },
          "metadata": {}
        },
        {
          "output_type": "display_data",
          "data": {
            "text/plain": [
              "Output()"
            ],
            "application/vnd.jupyter.widget-view+json": {
              "version_major": 2,
              "version_minor": 0,
              "model_id": "48ba7a8153764959afb26d0d7811540d"
            }
          },
          "metadata": {}
        },
        {
          "output_type": "stream",
          "name": "stdout",
          "text": [
            "Notebook siap untuk presentasi. Model NER tanpa CRF telah diterapkan, visualisasi lengkap, dan ipywidgets untuk interaksi multi-turn dialog tersedia.\n"
          ]
        },
        {
          "output_type": "error",
          "ename": "NameError",
          "evalue": "name 'get_best_response' is not defined",
          "traceback": [
            "\u001b[0;31m---------------------------------------------------------------------------\u001b[0m",
            "\u001b[0;31mNameError\u001b[0m                                 Traceback (most recent call last)",
            "\u001b[0;32m<ipython-input-19-8d06f116d0f1>\u001b[0m in \u001b[0;36mon_send_clicked\u001b[0;34m(b)\u001b[0m\n\u001b[1;32m     30\u001b[0m     \u001b[0muser_input\u001b[0m \u001b[0;34m=\u001b[0m \u001b[0minput_box\u001b[0m\u001b[0;34m.\u001b[0m\u001b[0mvalue\u001b[0m\u001b[0;34m.\u001b[0m\u001b[0mstrip\u001b[0m\u001b[0;34m(\u001b[0m\u001b[0;34m)\u001b[0m\u001b[0;34m\u001b[0m\u001b[0;34m\u001b[0m\u001b[0m\n\u001b[1;32m     31\u001b[0m     \u001b[0;32mif\u001b[0m \u001b[0muser_input\u001b[0m\u001b[0;34m:\u001b[0m\u001b[0;34m\u001b[0m\u001b[0;34m\u001b[0m\u001b[0m\n\u001b[0;32m---> 32\u001b[0;31m         \u001b[0mresp\u001b[0m \u001b[0;34m=\u001b[0m \u001b[0mchatbot_response_multi_turn\u001b[0m\u001b[0;34m(\u001b[0m\u001b[0muser_input\u001b[0m\u001b[0;34m)\u001b[0m\u001b[0;34m\u001b[0m\u001b[0;34m\u001b[0m\u001b[0m\n\u001b[0m\u001b[1;32m     33\u001b[0m         \u001b[0;32mwith\u001b[0m \u001b[0moutput_area\u001b[0m\u001b[0;34m:\u001b[0m\u001b[0;34m\u001b[0m\u001b[0;34m\u001b[0m\u001b[0m\n\u001b[1;32m     34\u001b[0m             \u001b[0mprint\u001b[0m\u001b[0;34m(\u001b[0m\u001b[0;34mf\"User: {user_input}\"\u001b[0m\u001b[0;34m)\u001b[0m\u001b[0;34m\u001b[0m\u001b[0;34m\u001b[0m\u001b[0m\n",
            "\u001b[0;32m<ipython-input-19-8d06f116d0f1>\u001b[0m in \u001b[0;36mchatbot_response_multi_turn\u001b[0;34m(user_input)\u001b[0m\n\u001b[1;32m     11\u001b[0m \u001b[0;32mdef\u001b[0m \u001b[0mchatbot_response_multi_turn\u001b[0m\u001b[0;34m(\u001b[0m\u001b[0muser_input\u001b[0m\u001b[0;34m)\u001b[0m\u001b[0;34m:\u001b[0m\u001b[0;34m\u001b[0m\u001b[0;34m\u001b[0m\u001b[0m\n\u001b[1;32m     12\u001b[0m     \u001b[0mdialog_history\u001b[0m\u001b[0;34m.\u001b[0m\u001b[0mappend\u001b[0m\u001b[0;34m(\u001b[0m\u001b[0muser_input\u001b[0m\u001b[0;34m)\u001b[0m\u001b[0;34m\u001b[0m\u001b[0;34m\u001b[0m\u001b[0m\n\u001b[0;32m---> 13\u001b[0;31m     \u001b[0mresponse\u001b[0m \u001b[0;34m=\u001b[0m \u001b[0mget_best_response\u001b[0m\u001b[0;34m(\u001b[0m\u001b[0mcombined_context\u001b[0m\u001b[0;34m(\u001b[0m\u001b[0muser_input\u001b[0m\u001b[0;34m)\u001b[0m\u001b[0;34m)\u001b[0m\u001b[0;34m\u001b[0m\u001b[0;34m\u001b[0m\u001b[0m\n\u001b[0m\u001b[1;32m     14\u001b[0m     \u001b[0;32mreturn\u001b[0m \u001b[0mresponse\u001b[0m\u001b[0;34m\u001b[0m\u001b[0;34m\u001b[0m\u001b[0m\n\u001b[1;32m     15\u001b[0m \u001b[0;34m\u001b[0m\u001b[0m\n",
            "\u001b[0;31mNameError\u001b[0m: name 'get_best_response' is not defined"
          ]
        }
      ]
    },
    {
      "cell_type": "code",
      "source": [
        "!mv data2.json app/data/"
      ],
      "metadata": {
        "id": "QRieefunQgmp"
      },
      "execution_count": 21,
      "outputs": []
    },
    {
      "cell_type": "code",
      "source": [
        "!mv stopword_list_tala.txt app/data/"
      ],
      "metadata": {
        "id": "fLey9G4lQvH8"
      },
      "execution_count": 22,
      "outputs": []
    },
    {
      "cell_type": "code",
      "source": [
        "!zip -r bayu.zip app/"
      ],
      "metadata": {
        "colab": {
          "base_uri": "https://localhost:8080/"
        },
        "id": "bELcYGP3SKk6",
        "outputId": "0efcad97-02a6-4098-edef-5683dd2500d6"
      },
      "execution_count": 23,
      "outputs": [
        {
          "output_type": "stream",
          "name": "stdout",
          "text": [
            "  adding: app/ (stored 0%)\n",
            "  adding: app/models/ (stored 0%)\n",
            "  adding: app/models/model_intent.keras (deflated 7%)\n",
            "  adding: app/models/model_ner.keras (deflated 8%)\n",
            "  adding: app/encoders/ (stored 0%)\n",
            "  adding: app/encoders/label_encoder_intent.pickle (deflated 19%)\n",
            "  adding: app/encoders/tokenizer_intent.pickle (deflated 38%)\n",
            "  adding: app/encoders/ner_label_encoder.pickle (deflated 30%)\n",
            "  adding: app/encoders/tokenizer_ner.pickle (deflated 39%)\n",
            "  adding: app/data/ (stored 0%)\n",
            "  adding: app/data/df_utterances.pkl (deflated 69%)\n",
            "  adding: app/data/vectorizer.pickle (deflated 51%)\n",
            "  adding: app/data/stopword_list_tala.txt (deflated 67%)\n",
            "  adding: app/data/data2.json (deflated 93%)\n",
            "  adding: app/data/tfidf_matrix.pickle (deflated 36%)\n"
          ]
        }
      ]
    },
    {
      "cell_type": "code",
      "source": [
        "# Cek isi df_kb\n",
        "print(df_kb.head())"
      ],
      "metadata": {
        "colab": {
          "base_uri": "https://localhost:8080/"
        },
        "id": "WN4EPuKLSNc0",
        "outputId": "36322ce7-da56-40d8-bcf3-4411eec540c1"
      },
      "execution_count": 24,
      "outputs": [
        {
          "output_type": "stream",
          "name": "stdout",
          "text": [
            "                                user_clean  \\\n",
            "0                 seekor kucing sakit toko   \n",
            "1                kucing demam bersinbersin   \n",
            "2                anjing terluka jalan raya   \n",
            "3                   ya anjing muntah lemas   \n",
            "4  menemukan seekor kucing luka kaki taman   \n",
            "\n",
            "                                        bot_response  \n",
            "0  Terima kasih atas laporannya. Apakah kucing te...  \n",
            "1  Kucing tersebut mungkin terkena Feline Caliciv...  \n",
            "2  Terima kasih atas informasinya. Apakah anjing ...  \n",
            "3  Gejala ini dapat mengindikasikan Distemper. Gu...  \n",
            "4  Terima kasih atas laporannya. Apakah Anda ingi...  \n"
          ]
        }
      ]
    },
    {
      "cell_type": "code",
      "source": [
        "# Contoh Prediksi NER\n",
        "test_sentence = \"Saya melihat seekor kucing di toko\"\n",
        "visualize_ner_prediction(test_sentence)"
      ],
      "metadata": {
        "colab": {
          "base_uri": "https://localhost:8080/"
        },
        "id": "Ay1P3qR9TP19",
        "outputId": "b40eac52-d1b5-451e-e148-7ae4551ba210"
      },
      "execution_count": 25,
      "outputs": [
        {
          "output_type": "stream",
          "name": "stdout",
          "text": [
            "1/1 [==============================] - 0s 51ms/step\n",
            "seekor -> O\n",
            "kucing -> O\n",
            "toko -> B-ANIMAL\n"
          ]
        }
      ]
    },
    {
      "cell_type": "code",
      "source": [
        "# Contoh Prediksi NER\n",
        "test_sentence = \"Ada anjing dengan kulit merah dan gatal di depan sekolah.\"\n",
        "visualize_ner_prediction(test_sentence)"
      ],
      "metadata": {
        "colab": {
          "base_uri": "https://localhost:8080/"
        },
        "id": "eKSU0fZzT3fk",
        "outputId": "c37adbbb-e347-42ac-eea7-6eb6936131fb"
      },
      "execution_count": 26,
      "outputs": [
        {
          "output_type": "stream",
          "name": "stdout",
          "text": [
            "1/1 [==============================] - 0s 58ms/step\n",
            "anjing -> O\n",
            "kulit -> B-ANIMAL\n",
            "merah -> O\n",
            "gatal -> B-SYMPTOM\n",
            "sekolah -> I-SYMPTOM\n"
          ]
        }
      ]
    },
    {
      "cell_type": "code",
      "source": [],
      "metadata": {
        "id": "Fb8jJIEvT_ZD"
      },
      "execution_count": null,
      "outputs": []
    }
  ]
}